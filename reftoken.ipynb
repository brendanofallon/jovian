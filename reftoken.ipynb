{
 "cells": [
  {
   "cell_type": "code",
   "execution_count": 24,
   "id": "813dcd20-7003-41df-9c84-f6f0285ac684",
   "metadata": {},
   "outputs": [
    {
     "name": "stdout",
     "output_type": "stream",
     "text": [
      "The autoreload extension is already loaded. To reload it, use:\n",
      "  %reload_ext autoreload\n"
     ]
    }
   ],
   "source": [
    "import torch\n",
    "import torch.nn as nn\n",
    "\n",
    "import numpy as np\n",
    "from collections import defaultdict\n",
    "\n",
    "%load_ext autoreload\n",
    "%autoreload 1\n",
    "    \n",
    "import sys\n",
    "if \"/Users/brendanofallon/src/jovian/dnaseq2seq\" in sys.path:\n",
    "    sys.path.insert(0, \"/Users/brendanofallon/src/jovian/dnaseq2seq\")\n",
    "    \n",
    "import vcf\n",
    "import util\n",
    "import loader\n",
    "import call"
   ]
  },
  {
   "cell_type": "code",
   "execution_count": 13,
   "id": "578df548-d65d-46fc-9c90-7b0cda2482a5",
   "metadata": {},
   "outputs": [],
   "source": [
    "modelpath = \"/Users/brendanofallon/data/jovian/100M_s28_cont_mapsus_lolr2_epoch4.model\"\n",
    "refpath = \"/Users/brendanofallon/data/ref/human_g1k_v37_decoy_phiXAdaptr.fasta.gz\"\n",
    "bam = \"/Users/brendanofallon/data/WGS/99702111878_NA12878_1ug.cram\"\n",
    "classifier = \"/Users/brendanofallon/data/jovian/s28ce40_bamfix.model\"\n"
   ]
  },
  {
   "cell_type": "code",
   "execution_count": 14,
   "id": "b088a2be-fdb0-49ea-9f00-f7d95afd8c60",
   "metadata": {},
   "outputs": [],
   "source": [
    "model = call.load_model(modelpath)"
   ]
  },
  {
   "cell_type": "code",
   "execution_count": 8,
   "id": "2037a677-f7d9-4b74-823f-9fdaa038d3b8",
   "metadata": {},
   "outputs": [],
   "source": [
    "datapath = call.encode_and_save_region(bam, refpath, \".\", \n",
    "                                       region=(\"21\", 0, 22504100, 22504110),\n",
    "                                       max_read_depth=150,\n",
    "                                       window_size=150,\n",
    "                                       min_reads=5,\n",
    "                                       batch_size=16,\n",
    "                                       window_step=25)\n",
    "data = torch.load(datapath)"
   ]
  },
  {
   "cell_type": "code",
   "execution_count": 39,
   "id": "94306ba3-5e43-4181-9da6-ae6ecfd3e095",
   "metadata": {},
   "outputs": [],
   "source": [
    "START_TOKEN = torch.zeros((1, util.FEATURE_DIM),  dtype=float)\n",
    "def predict_sequence(src, model, reftoks, n_output_toks, device):\n",
    "    \"\"\"\n",
    "    Generate a predicted sequence with next-word prediction be repeatedly calling the model\n",
    "    \"\"\"\n",
    "    predictions = torch.stack((START_TOKEN, START_TOKEN), dim=0).expand(src.shape[0], -1, -1, -1).float().to(device)\n",
    "    probs = torch.zeros(src.shape[0], 2, 1).float().to(device)\n",
    "    mem = model.encode(src)\n",
    "    for i in range(n_output_toks + 1):\n",
    "        tgt_mask = nn.Transformer.generate_square_subsequent_mask(predictions.shape[-2]).to(device)\n",
    "        new_preds = model.decode(mem, predictions, tgt_mask=tgt_mask)[:, :, -1:, :]\n",
    "        new_probs, tophit = torch.max(new_preds, dim=-1)\n",
    "        p = torch.nn.functional.one_hot(tophit, num_classes=260)\n",
    "        predictions = torch.concat((predictions, p), dim=2)\n",
    "        probs = torch.concat((probs, new_probs), dim=-1)\n",
    "\n",
    "    return predictions[:, :, 1:, :], probs[:, :, 1:]\n"
   ]
  },
  {
   "cell_type": "code",
   "execution_count": 40,
   "id": "e4213258-2f1d-4bad-80af-cbbbcf549792",
   "metadata": {},
   "outputs": [
    {
     "data": {
      "text/plain": [
       "[22503995, 22504020, 22504045, 22504070]"
      ]
     },
     "execution_count": 40,
     "metadata": {},
     "output_type": "execute_result"
    }
   ],
   "source": [
    "data['start_positions']"
   ]
  },
  {
   "cell_type": "code",
   "execution_count": 41,
   "id": "d3b3850b-7c30-4fa6-9d74-26d34abbd20a",
   "metadata": {},
   "outputs": [
    {
     "data": {
      "text/plain": [
       "torch.Size([1, 150, 150, 10])"
      ]
     },
     "execution_count": 41,
     "metadata": {},
     "output_type": "execute_result"
    }
   ],
   "source": [
    "enc = data['encoded_pileup']\n",
    "e = enc[0:1, :, :, :]\n",
    "e.shape"
   ]
  },
  {
   "cell_type": "code",
   "execution_count": 42,
   "id": "c78d40f7-40d0-4af3-8e0d-c8a447785dc5",
   "metadata": {},
   "outputs": [],
   "source": [
    "preds, probs = predict_sequence(e, model, None, 10, 'cpu')"
   ]
  },
  {
   "cell_type": "code",
   "execution_count": 44,
   "id": "c76faa64-7dc1-4aca-b519-4210c7b8cb3a",
   "metadata": {},
   "outputs": [
    {
     "data": {
      "text/plain": [
       "torch.Size([1, 2, 11, 260])"
      ]
     },
     "execution_count": 44,
     "metadata": {},
     "output_type": "execute_result"
    }
   ],
   "source": [
    "preds.shape"
   ]
  },
  {
   "cell_type": "code",
   "execution_count": 45,
   "id": "e8f284f9-ebdb-4828-b1b3-6d309c0a9999",
   "metadata": {},
   "outputs": [],
   "source": [
    "ptoks = torch.argmax(preds[0, 1, :, :], dim=-1)"
   ]
  },
  {
   "cell_type": "code",
   "execution_count": 46,
   "id": "8c29bd42-a5db-48c1-bdeb-0eb97e8210a7",
   "metadata": {},
   "outputs": [
    {
     "data": {
      "text/plain": [
       "tensor([ 15,  28,  67, 252, 204, 201, 204, 204, 225,  28,  92])"
      ]
     },
     "execution_count": 46,
     "metadata": {},
     "output_type": "execute_result"
    }
   ],
   "source": [
    "ptoks"
   ]
  },
  {
   "cell_type": "code",
   "execution_count": 47,
   "id": "d902e946-e53f-4901-a59e-c564065a5a5e",
   "metadata": {},
   "outputs": [
    {
     "data": {
      "text/plain": [
       "'AATTACTACAATTTTATATATAGCTATATATATGACACTACCTA'"
      ]
     },
     "execution_count": 47,
     "metadata": {},
     "output_type": "execute_result"
    }
   ],
   "source": [
    "pseq = util.kmer_idx_to_str(ptoks, util.i2s)\n",
    "pseq"
   ]
  },
  {
   "cell_type": "code",
   "execution_count": null,
   "id": "575e6cb6-01db-4fe5-8ba5-b702714ad331",
   "metadata": {},
   "outputs": [],
   "source": []
  }
 ],
 "metadata": {
  "kernelspec": {
   "display_name": "Python 3 (ipykernel)",
   "language": "python",
   "name": "python3"
  },
  "language_info": {
   "codemirror_mode": {
    "name": "ipython",
    "version": 3
   },
   "file_extension": ".py",
   "mimetype": "text/x-python",
   "name": "python",
   "nbconvert_exporter": "python",
   "pygments_lexer": "ipython3",
   "version": "3.10.9"
  }
 },
 "nbformat": 4,
 "nbformat_minor": 5
}
